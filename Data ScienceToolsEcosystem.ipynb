{
 "cells": [
  {
   "cell_type": "markdown",
   "metadata": {},
   "source": [
    "<center>\n",
    "    <img src=\"https://cf-courses-data.s3.us.cloud-object-storage.appdomain.cloud/IBMDeveloperSkillsNetwork-DS0105EN-SkillsNetwork/labs/Module2/images/SN_web_lightmode.png\" width=\"300\" alt=\"cognitiveclass.ai logo\">\n",
    "</center>\n"
   ]
  },
  {
   "cell_type": "markdown",
   "metadata": {},
   "source": [
    "#### Add your code below following the instructions given in the course\n"
   ]
  },
  {
   "cell_type": "markdown",
   "metadata": {},
   "source": [
    "# Data Science Tools and Ecosystem"
   ]
  },
  {
   "cell_type": "markdown",
   "metadata": {},
   "source": [
    "In this notebook, Data Science Tools and Ecosystem are summarized."
   ]
  },
  {
   "cell_type": "markdown",
   "metadata": {},
   "source": [
    "Some of the popular languages that Data Scientists use are:\n",
    "\n",
    "1. Python\n",
    "2. R\n",
    "3. SQL\n",
    "4. Julia\n",
    "5. SAS"
   ]
  },
  {
   "cell_type": "markdown",
   "metadata": {},
   "source": [
    "Some of the commonly used libraries used by Data Scientists include:\n",
    "\n",
    "Python:\n",
    "\n",
    "Pandas: Essential for data manipulation and analysis.\n",
    "\n",
    "NumPy: Key for numerical computations.\n",
    "\n",
    "Matplotlib: Basic plotting and visualization.\n",
    "\n",
    "Scikit-learn: Go-to for machine learning.\n",
    "\n",
    "TensorFlow & PyTorch: Powerhouses for deep learning.\n",
    "\n",
    "R:\n",
    "\n",
    "ggplot2: For elegant data visualizations.\n",
    "\n",
    "dplyr: Handy for data manipulation.\n",
    "\n",
    "caret: Simplifies machine learning workflows.\n",
    "\n",
    "General:\n",
    "\n",
    "SQLAlchemy: Makes SQL queries within Python a breeze.\n",
    "\n",
    "NLTK: Perfect for natural language processing.\n",
    "\n",
    "Plotly: Interactive visualizations that wow."
   ]
  },
  {
   "cell_type": "markdown",
   "metadata": {},
   "source": [
    "Data science tools and thier uses include\n",
    "\n",
    "| **Tool**         | **Description**                                           |\n",
    "|------------------|-----------------------------------------------------------|\n",
    "| **Pandas**       | Data manipulation and analysis library for Python.        |\n",
    "| **NumPy**        | Library for numerical computations in Python.             |\n",
    "| **Matplotlib**   | Plotting and visualization library for Python.            |\n",
    "| **Scikit-learn** | Machine learning library for Python.                      |\n",
    "| **TensorFlow**   | Deep learning framework developed by Google.              |\n",
    "| **PyTorch**      | Deep learning framework developed by Facebook.            |\n",
    "| **ggplot2**      | Data visualization package for R.                         |\n",
    "| **dplyr**        | Data manipulation package for R.                          |\n",
    "| **SQLAlchemy**   | SQL toolkit and ORM for Python.                           |\n",
    "| **NLTK**         | Natural Language Processing toolkit for Python.           |\n",
    "| **Plotly**       | Interactive graphing library for Python.                  "
   ]
  },
  {
   "cell_type": "markdown",
   "metadata": {},
   "source": [
    "# Below are a few examples of evaluating arithmetic expressions in Python"
   ]
  },
  {
   "cell_type": "code",
   "execution_count": 1,
   "metadata": {},
   "outputs": [
    {
     "data": {
      "text/plain": [
       "17"
      ]
     },
     "execution_count": 1,
     "metadata": {},
     "output_type": "execute_result"
    }
   ],
   "source": [
    "# This a simple arithmetic expression to multiply then add integers\n",
    "\n",
    "(3*4)+5"
   ]
  },
  {
   "cell_type": "code",
   "execution_count": 2,
   "metadata": {},
   "outputs": [
    {
     "name": "stdout",
     "output_type": "stream",
     "text": [
      "3.3333333333333335 hours\n"
     ]
    }
   ],
   "source": [
    "# This will convert 200 minutes to hours by diving by 60\n",
    "print(200/60,\"hours\")\n"
   ]
  },
  {
   "cell_type": "markdown",
   "metadata": {},
   "source": [
    "# Objectives of this Notebook:\n",
    "\n",
    "- Listed popular datascience libraries\n",
    "- Listed popular data science languages\n",
    "- Listed popular data science tools and their uses\n",
    "- Porvided examples of some arithmatic capabilities of python"
   ]
  },
  {
   "cell_type": "markdown",
   "metadata": {},
   "source": [
    "# Author\n",
    "\n",
    "## Kofi Frimpong"
   ]
  },
  {
   "cell_type": "code",
   "execution_count": null,
   "metadata": {},
   "outputs": [],
   "source": []
  }
 ],
 "metadata": {
  "kernelspec": {
   "display_name": "Python 3 (ipykernel)",
   "language": "python",
   "name": "python3"
  },
  "language_info": {
   "codemirror_mode": {
    "name": "ipython",
    "version": 3
   },
   "file_extension": ".py",
   "mimetype": "text/x-python",
   "name": "python",
   "nbconvert_exporter": "python",
   "pygments_lexer": "ipython3",
   "version": "3.11.9"
  }
 },
 "nbformat": 4,
 "nbformat_minor": 4
}
